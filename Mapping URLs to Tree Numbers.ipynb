{
 "cells": [
  {
   "cell_type": "code",
   "execution_count": null,
   "id": "17f3e195-a020-4bb4-bbb2-724491033522",
   "metadata": {},
   "outputs": [],
   "source": [
    "import pandas as pd\n",
    "\n",
    "# Read both sheets\n",
    "df_photos = pd.read_excel('photo_repeat_group.xlsx', sheet_name='photo_repeat_group')\n",
    "df_tree_numbers = pd.read_excel('photo_repeat_group.xlsx', sheet_name='tree number to urls match')\n",
    "\n",
    "# Look at the first few rows of both dataframes to understand the structure\n",
    "print(\"Tree numbers sheet first few rows:\")\n",
    "print(df_tree_numbers[['submission_id', 'tree_number']].head(10))\n",
    "\n",
    "print(\"\\\n",
    "Photo repeat group sheet first few rows:\")\n",
    "print(df_photos[['parent_index', 'tree_url']].head(10))"
   ]
  },
  {
   "cell_type": "code",
   "execution_count": null,
   "id": "86987a46-c251-44d7-ac0e-b640a37b5994",
   "metadata": {},
   "outputs": [],
   "source": [
    "# Get unique parent indices for each submission_id and tree_number combination\n",
    "unique_indices = df_photos['parent_index'].unique()\n",
    "print(\"\\\n",
    "Number of unique parent indices:\", len(unique_indices))\n",
    "\n",
    "# Create a mapping dictionary based on the sequence of appearance in the tree_numbers sheet\n",
    "mapping = {}\n",
    "current_parent_index_idx = 0\n",
    "\n",
    "for _, row in df_tree_numbers.iterrows():\n",
    "    submission_tree_key = (row['submission_id'], row['tree_number'])\n",
    "    if submission_tree_key not in mapping and current_parent_index_idx < len(unique_indices):\n",
    "        mapping[submission_tree_key] = unique_indices[current_parent_index_idx]\n",
    "        current_parent_index_idx += 1\n",
    "\n",
    "# Function to get URLs for a specific submission_id and tree_number\n",
    "def get_urls_for_tree(submission_id, tree_number):\n",
    "    parent_idx = mapping.get((submission_id, tree_number))\n",
    "    if parent_idx is not None:\n",
    "        urls = df_photos[df_photos['parent_index'] == parent_idx]['tree_url'].tolist()\n",
    "        return ','.join(urls) if urls else None\n",
    "    return None\n",
    "\n",
    "# Create the tree_urls column\n",
    "df_tree_numbers['tree_urls'] = df_tree_numbers.apply(\n",
    "    lambda row: get_urls_for_tree(row['submission_id'], row['tree_number']), \n",
    "    axis=1\n",
    ")\n",
    "\n",
    "# Save the updated dataframe\n",
    "output_filename = 'tree_numbers_with_sequential_mapping.xlsx'\n",
    "df_tree_numbers.to_excel(output_filename, index=False)\n",
    "\n",
    "# Print the first few mappings to verify\n",
    "print(\"\\\n",
    "First 10 mappings:\")\n",
    "for i, ((submission_id, tree_number), parent_idx) in enumerate(list(mapping.items())[:10]):\n",
    "    print(f\"Submission {submission_id}, Tree {tree_number} -> Parent index {parent_idx}\")\n",
    "\n",
    "print(\"\\\n",
    "Sample of updated dataframe:\")\n",
    "print(df_tree_numbers.head())"
   ]
  },
  {
   "cell_type": "code",
   "execution_count": null,
   "id": "d44e6090-f6e1-4621-8c2d-9dd5dfcbfbde",
   "metadata": {},
   "outputs": [],
   "source": []
  }
 ],
 "metadata": {
  "kernelspec": {
   "display_name": "Python 3 (ipykernel)",
   "language": "python",
   "name": "python3"
  },
  "language_info": {
   "codemirror_mode": {
    "name": "ipython",
    "version": 3
   },
   "file_extension": ".py",
   "mimetype": "text/x-python",
   "name": "python",
   "nbconvert_exporter": "python",
   "pygments_lexer": "ipython3",
   "version": "3.12.7"
  }
 },
 "nbformat": 4,
 "nbformat_minor": 5
}
