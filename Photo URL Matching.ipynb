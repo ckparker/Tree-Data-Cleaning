{
 "cells": [
  {
   "cell_type": "code",
   "execution_count": null,
   "id": "dbb2e8ce-8c35-461c-b351-e8efb39cba3e",
   "metadata": {},
   "outputs": [],
   "source": [
    "# Read the Excel sheets\n",
    "import pandas as pd\n",
    "\n",
    "# Read both sheets\n",
    "# Replace file path with your own file path if running on a different pc\n",
    "photo_df = pd.read_excel(r\"file_path\", sheet_name='photo_repeat_group')\n",
    "final_df = pd.read_excel(r\"file_path\", sheet_name='final')\n",
    "\n",
    "# Create a dictionary to store URLs for each tree number\n",
    "tree_urls_dict = {}\n",
    "for _, row in photo_df.iterrows():\n",
    "    submission_id = row['submission_id']\n",
    "    tree_number = row['tree_number']\n",
    "    urls = row['tree_urls']\n",
    "    \n",
    "    if submission_id not in tree_urls_dict:\n",
    "        tree_urls_dict[submission_id] = {}\n",
    "    tree_urls_dict[submission_id][f'Tree {tree_number}'] = urls\n",
    "\n",
    "# Update the final dataframe with URLs\n",
    "for idx, row in final_df.iterrows():\n",
    "    submission_id = row['submission_id']\n",
    "    if submission_id in tree_urls_dict:\n",
    "        for tree_col in [f'Tree {i}' for i in range(1, 11)]:\n",
    "            if tree_col in tree_urls_dict[submission_id]:\n",
    "                final_df.at[idx, tree_col] = tree_urls_dict[submission_id][tree_col]\n",
    "\n",
    "# Save the updated dataframe\n",
    "final_df.to_excel('matched_tree_urls.xlsx', index=False)\n",
    "\n",
    "print(\"First few rows of the updated dataframe:\")\n",
    "print(final_df.head())\n",
    "print(\"\\\n",
    "File saved as 'matched_tree_urls.xlsx'\")"
   ]
  },
  {
   "cell_type": "code",
   "execution_count": null,
   "id": "46b7ab00-0125-4728-a761-16f4456c1c06",
   "metadata": {},
   "outputs": [],
   "source": []
  }
 ],
 "metadata": {
  "kernelspec": {
   "display_name": "Python 3 (ipykernel)",
   "language": "python",
   "name": "python3"
  },
  "language_info": {
   "codemirror_mode": {
    "name": "ipython",
    "version": 3
   },
   "file_extension": ".py",
   "mimetype": "text/x-python",
   "name": "python",
   "nbconvert_exporter": "python",
   "pygments_lexer": "ipython3",
   "version": "3.12.7"
  }
 },
 "nbformat": 4,
 "nbformat_minor": 5
}
