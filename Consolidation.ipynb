{
 "cells": [
  {
   "cell_type": "code",
   "execution_count": 1,
   "id": "a443c2c2-ac51-4e94-96fd-52c07d1bee6a",
   "metadata": {},
   "outputs": [],
   "source": [
    "import pandas as pd\n",
    "\n",
    "# Load original data\n",
    "df = pd.read_excel(r\"C:\\Users\\CHAKU FOODS\\Documents\\Final Tree Photo Taking Cleaning\\matched_tree_urls.xlsx\", sheet_name='URLs Matched')"
   ]
  },
  {
   "cell_type": "code",
   "execution_count": 2,
   "id": "57f1660f-a71a-44b8-85c0-01aa204c13b9",
   "metadata": {},
   "outputs": [
    {
     "name": "stdout",
     "output_type": "stream",
     "text": [
      "Non-null values in original dataset:\n",
      "Tree 1     14\n",
      "Tree 2     14\n",
      "Tree 3     14\n",
      "Tree 4     14\n",
      "Tree 5     14\n",
      "Tree 6     14\n",
      "Tree 7     14\n",
      "Tree 8     14\n",
      "Tree 9     14\n",
      "Tree 10    14\n",
      "dtype: int64\n"
     ]
    }
   ],
   "source": [
    "# Check how many non-null values we have for each tree column in the original dataset\n",
    "tree_cols = [f'Tree {i}' for i in range(1, 11)]\n",
    "print(\"Non-null values in original dataset:\")\n",
    "print(df[tree_cols].count())"
   ]
  },
  {
   "cell_type": "code",
   "execution_count": 3,
   "id": "bf7b6d8e-2c4a-4dff-96f4-d49626d5a0d1",
   "metadata": {},
   "outputs": [],
   "source": [
    "# Get unique combinations of farmer names and farm numbers\n",
    "unique_farmers = df[['farmer_name', 'farm_number']].drop_duplicates()"
   ]
  },
  {
   "cell_type": "code",
   "execution_count": 4,
   "id": "b74c17e2-18e3-4fac-94ca-77b448abb1cd",
   "metadata": {},
   "outputs": [],
   "source": [
    "# Initialize an empty list to store consolidated rows\n",
    "consolidated_rows = []\n",
    "\n",
    "# Process each unique farmer and farm number combination\n",
    "for _, row in unique_farmers.iterrows():\n",
    "    farmer = row['farmer_name']\n",
    "    farm_num = row['farm_number']\n",
    "    \n",
    "    # Filter entries for this farmer and farm number\n",
    "    farmer_df = df[\n",
    "        (df['farmer_name'] == farmer) & \n",
    "        (df['farm_number'] == farm_num)\n",
    "    ].copy()\n",
    "    \n",
    "    # Create a consolidated row using the first entry as base\n",
    "    consolidated_row = farmer_df.iloc[0].copy()\n",
    "    \n",
    "    # Combine all non-null values for each tree column\n",
    "    tree_columns = [f'Tree {i}' for i in range(1, 11)]\n",
    "    for col in tree_columns:\n",
    "        all_values = farmer_df[col].dropna().values\n",
    "        if len(all_values) > 0:\n",
    "            consolidated_row[col] = all_values[0]\n",
    "    \n",
    "    consolidated_rows.append(consolidated_row)\n",
    "\n",
    "# Create final consolidated dataframe\n",
    "final_df = pd.DataFrame(consolidated_rows)\n",
    "\n",
    "# Save to Excel\n",
    "final_df.to_excel('final_consolidated_cleaning_process.xlsx', index=False)\n"
   ]
  },
  {
   "cell_type": "code",
   "execution_count": null,
   "id": "d1c7fb5f-b6f1-4d6f-8f3e-75dbdbb9fe71",
   "metadata": {},
   "outputs": [],
   "source": []
  }
 ],
 "metadata": {
  "kernelspec": {
   "display_name": "Python 3 (ipykernel)",
   "language": "python",
   "name": "python3"
  },
  "language_info": {
   "codemirror_mode": {
    "name": "ipython",
    "version": 3
   },
   "file_extension": ".py",
   "mimetype": "text/x-python",
   "name": "python",
   "nbconvert_exporter": "python",
   "pygments_lexer": "ipython3",
   "version": "3.12.7"
  }
 },
 "nbformat": 4,
 "nbformat_minor": 5
}
